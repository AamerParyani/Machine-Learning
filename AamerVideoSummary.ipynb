{
 "cells": [
  {
   "cell_type": "markdown",
   "id": "9f05d0c4",
   "metadata": {},
   "source": [
    "# Python code to convert to audio"
   ]
  },
  {
   "cell_type": "code",
   "execution_count": 1,
   "id": "59bb2d71",
   "metadata": {},
   "outputs": [],
   "source": [
    "import moviepy.editor as mp"
   ]
  },
  {
   "cell_type": "code",
   "execution_count": 2,
   "id": "78a321fb",
   "metadata": {},
   "outputs": [
    {
     "name": "stdout",
     "output_type": "stream",
     "text": [
      "Requirement already satisfied: moviepy in c:\\users\\aamer\\anaconda3\\lib\\site-packages (1.0.3)\n",
      "Requirement already satisfied: tqdm<5.0,>=4.11.2 in c:\\users\\aamer\\anaconda3\\lib\\site-packages (from moviepy) (4.59.0)\n",
      "Requirement already satisfied: requests<3.0,>=2.8.1 in c:\\users\\aamer\\anaconda3\\lib\\site-packages (from moviepy) (2.25.1)\n",
      "Requirement already satisfied: imageio-ffmpeg>=0.2.0 in c:\\users\\aamer\\anaconda3\\lib\\site-packages (from moviepy) (0.4.7)\n",
      "Requirement already satisfied: numpy in c:\\users\\aamer\\anaconda3\\lib\\site-packages (from moviepy) (1.20.1)\n",
      "Requirement already satisfied: decorator<5.0,>=4.0.2 in c:\\users\\aamer\\anaconda3\\lib\\site-packages (from moviepy) (4.4.2)\n",
      "Requirement already satisfied: proglog<=1.0.0 in c:\\users\\aamer\\anaconda3\\lib\\site-packages (from moviepy) (0.1.10)\n",
      "Requirement already satisfied: imageio<3.0,>=2.5 in c:\\users\\aamer\\anaconda3\\lib\\site-packages (from moviepy) (2.9.0)\n",
      "Requirement already satisfied: pillow in c:\\users\\aamer\\anaconda3\\lib\\site-packages (from imageio<3.0,>=2.5->moviepy) (8.2.0)\n",
      "Requirement already satisfied: urllib3<1.27,>=1.21.1 in c:\\users\\aamer\\anaconda3\\lib\\site-packages (from requests<3.0,>=2.8.1->moviepy) (1.26.4)\n",
      "Requirement already satisfied: chardet<5,>=3.0.2 in c:\\users\\aamer\\anaconda3\\lib\\site-packages (from requests<3.0,>=2.8.1->moviepy) (4.0.0)\n",
      "Requirement already satisfied: idna<3,>=2.5 in c:\\users\\aamer\\anaconda3\\lib\\site-packages (from requests<3.0,>=2.8.1->moviepy) (2.10)\n",
      "Requirement already satisfied: certifi>=2017.4.17 in c:\\users\\aamer\\anaconda3\\lib\\site-packages (from requests<3.0,>=2.8.1->moviepy) (2020.12.5)\n"
     ]
    }
   ],
   "source": [
    "!pip install moviepy"
   ]
  },
  {
   "cell_type": "code",
   "execution_count": 3,
   "id": "10d46aa4",
   "metadata": {},
   "outputs": [],
   "source": [
    "import moviepy.editor as mp"
   ]
  },
  {
   "cell_type": "code",
   "execution_count": 4,
   "id": "c29e8ba0",
   "metadata": {},
   "outputs": [],
   "source": [
    "clip = mp.VideoFileClip(r\"C:\\Users\\aamer\\Downloads\\videoplayback.mp4\")"
   ]
  },
  {
   "cell_type": "code",
   "execution_count": 5,
   "id": "0176911f",
   "metadata": {},
   "outputs": [
    {
     "name": "stderr",
     "output_type": "stream",
     "text": [
      "chunk:   0%|▏                                                             | 32/8357 [00:00<00:26, 311.99it/s, now=None]"
     ]
    },
    {
     "name": "stdout",
     "output_type": "stream",
     "text": [
      "MoviePy - Writing audio in C:\\videoplayback.wav\n"
     ]
    },
    {
     "name": "stderr",
     "output_type": "stream",
     "text": [
      "                                                                                                                       "
     ]
    },
    {
     "name": "stdout",
     "output_type": "stream",
     "text": [
      "MoviePy - Done.\n"
     ]
    },
    {
     "name": "stderr",
     "output_type": "stream",
     "text": [
      "\r"
     ]
    }
   ],
   "source": [
    "# Insert Local Audio File Path \n",
    "audio_clip = clip.audio.write_audiofile(r\"C:\\videoplayback.wav\")"
   ]
  },
  {
   "cell_type": "code",
   "execution_count": 6,
   "id": "2e576d0e",
   "metadata": {},
   "outputs": [
    {
     "name": "stdout",
     "output_type": "stream",
     "text": [
      "Requirement already satisfied: pydub in c:\\users\\aamer\\anaconda3\\lib\\site-packages (0.25.1)\n",
      "Requirement already satisfied: SpeechRecognition in c:\\users\\aamer\\anaconda3\\lib\\site-packages (3.8.1)\n"
     ]
    }
   ],
   "source": [
    "!pip install pydub\n",
    "!pip install SpeechRecognition\n",
    "import os\n",
    "import pydub\n",
    "from pydub import AudioSegment\n",
    "from pydub.silence import split_on_silence\n",
    "import speech_recognition as sr\n",
    "r = sr.Recognizer()\n"
   ]
  },
  {
   "cell_type": "code",
   "execution_count": 7,
   "id": "b5373952",
   "metadata": {},
   "outputs": [],
   "source": [
    "def get_large_audio_transcription(path):\n",
    "    \"\"\"\n",
    "    Splitting the large audio file into chunks\n",
    "    and apply speech recognition on each of these chunks\n",
    "    \"\"\"\n",
    "    # open the audio file using pydub\n",
    "    sound = AudioSegment.from_wav(path)  \n",
    "    # split audio sound where silence is 700 miliseconds or more and get chunks\n",
    "    chunks = split_on_silence(sound,\n",
    "        # experiment with this value for your target audio file\n",
    "        min_silence_len = 500,\n",
    "        # adjust this per requirement\n",
    "        silence_thresh = sound.dBFS-14,\n",
    "        # keep the silence for 1 second, adjustable as well\n",
    "        keep_silence=500,\n",
    "    )\n",
    "    folder_name = \"audio-chunks\"\n",
    "    # create a directory to store the audio chunks\n",
    "    if not os.path.isdir(folder_name):\n",
    "        os.mkdir(folder_name)\n",
    "    whole_text = \"\"\n",
    "    # process each chunk \n",
    "    for i, audio_chunk in enumerate(chunks, start=1):\n",
    "        # export audio chunk and save it in\n",
    "        # the `folder_name` directory.\n",
    "        chunk_filename = os.path.join(folder_name, f\"chunk{i}.wav\")\n",
    "        audio_chunk.export(chunk_filename, format=\"wav\")\n",
    "        # recognize the chunk\n",
    "        with sr.AudioFile(chunk_filename) as source:\n",
    "            audio_listened = r.record(source)\n",
    "            # try converting it to text\n",
    "            try:\n",
    "                text = r.recognize_google(audio_listened)\n",
    "            except sr.UnknownValueError as e:\n",
    "                print(\"Error:\", str(e))\n",
    "            else:\n",
    "                text = f\"{text.capitalize()}. \"\n",
    "                print(chunk_filename, \":\", text)\n",
    "                whole_text += text\n",
    "    # return the text for all chunks detected\n",
    "    return whole_text"
   ]
  },
  {
   "cell_type": "code",
   "execution_count": 9,
   "id": "c813c88e",
   "metadata": {},
   "outputs": [
    {
     "name": "stdout",
     "output_type": "stream",
     "text": [
      "audio-chunks\\chunk1.wav : I rewind kevin here today i want to show you how you can make text-to-speech videos. \n",
      "audio-chunks\\chunk2.wav : Entirely for free and you can use these on youtube tik-tok facebook instagram and any other video service. \n",
      "audio-chunks\\chunk3.wav : Basically if you want your video to sound like me. \n",
      "audio-chunks\\chunk4.wav : The human manifestation of text-to-speech. \n",
      "audio-chunks\\chunk5.wav : I'll show you how to do this. \n",
      "audio-chunks\\chunk6.wav : For text-to-speech we are going to use a free video editing service called clipchamp. \n",
      "audio-chunks\\chunk7.wav : And this also happens to be owned by microsoft. \n",
      "audio-chunks\\chunk8.wav : My previous employer. \n",
      "audio-chunks\\chunk9.wav : Head to the website up above or you'll also find a link down below in the description. \n",
      "audio-chunks\\chunk10.wav : Once you land on the homepage in the top right-hand corner click on try for free. \n",
      "audio-chunks\\chunk11.wav : You'll need to create an account you can use a microsoft account. \n",
      "audio-chunks\\chunk12.wav : A google account or you can simply use your email address. \n",
      "audio-chunks\\chunk13.wav : This process on the eclipse champs start page. \n",
      "audio-chunks\\chunk14.wav : And in case you're wondering clipchamp is a very easy to use video editing program. \n",
      "audio-chunks\\chunk15.wav : And if you want to learn all about how you can use clipchamp to edit videos check out the video up above. \n",
      "audio-chunks\\chunk16.wav : We're simply going to look at how you can use text-to-speech using clipchamp. \n",
      "audio-chunks\\chunk17.wav : In the top right-hand corner let's click on create a video. \n",
      "audio-chunks\\chunk18.wav : Restaurants that's in the main editing interface. \n",
      "audio-chunks\\chunk19.wav : Over on the left hand side let's click on the button that says record and create. \n",
      "audio-chunks\\chunk20.wav : Is a quick aside you can create all types of things within clipchamp. \n",
      "audio-chunks\\chunk21.wav : You can record your screen and camera at the same time. \n",
      "audio-chunks\\chunk22.wav : Or just your camera or just your screen. \n",
      "audio-chunks\\chunk23.wav : At the very bottom we have the text-to-speech option the quick on that. \n",
      "audio-chunks\\chunk24.wav : This opens up the main text-to-speech interface. \n",
      "audio-chunks\\chunk25.wav : In the top left-hand corner you can choose your language. \n",
      "audio-chunks\\chunk26.wav : And you have 70 difference options here. \n",
      "audio-chunks\\chunk27.wav : No it sounds like a lot but i'm look through this entire list and unfortunately there was no klingon. \n",
      "audio-chunks\\chunk28.wav : Over on the right hand side you can choose from 170 different voices. \n",
      "audio-chunks\\chunk29.wav : They have male voices female. \n",
      "audio-chunks\\chunk30.wav : Neutral. \n",
      "audio-chunks\\chunk31.wav : You can choose different ages and even different accents. \n",
      "audio-chunks\\chunk32.wav : You can even mix and match the different languages with the different voices. \n",
      "audio-chunks\\chunk33.wav : So as an example i can choose french as my language and then i can still enter an english text. \n",
      "audio-chunks\\chunk34.wav : So it'll sound like a french person is trying to say my text. \n",
      "audio-chunks\\chunk35.wav : Down below you can also set the speed for your text. \n",
      "audio-chunks\\chunk36.wav : Here you to answer your text in and then down below you can click on the preview button. \n",
      "audio-chunks\\chunk37.wav : Is it giving cookie company makes the best cookies in the world. \n",
      "audio-chunks\\chunk38.wav : Now that i've inserted some tax you can also customize the way the computer says it. \n",
      "audio-chunks\\chunk39.wav : What's i want to add some additional emphasis to best. \n",
      "audio-chunks\\chunk40.wav : I can insert a. after best and that'll result in a long pause. \n",
      "audio-chunks\\chunk41.wav : The kevin cookie company makes the best. \n",
      "audio-chunks\\chunk42.wav : Cookies in the world i can also insert a, if i want to introduce a pause but i wanted to be a little bit shorter they kevin cookie company makes the best cookies in the world you can insert an ellipsis and that too will also cause it to pause makes the best cookies in the world. \n",
      "audio-chunks\\chunk43.wav : Lastly you can also insert a?. \n",
      "audio-chunks\\chunk44.wav : And that will cause the pitch to rise on the last syllable of the centre. \n",
      "audio-chunks\\chunk45.wav : The kevin cookie company makes the best cookies in the world. \n",
      "audio-chunks\\chunk46.wav : Once you're all done customizing your text-to-speech let's click on the button that says save to media. \n",
      "audio-chunks\\chunk47.wav : And here now you'll see it in your media been. \n",
      "audio-chunks\\chunk48.wav : Once again to preview the text-to-speech you can simply hover over and it'll play a preview. \n",
      "audio-chunks\\chunk49.wav : There are two different ways that you can add this to your timeline. \n",
      "audio-chunks\\chunk50.wav : If you hover over you can click on this plus icon. \n",
      "audio-chunks\\chunk51.wav : Or alternatively you could simply drag and drop it on to your timeline. \n",
      "audio-chunks\\chunk52.wav : Now that you have your audio on the timeline you can use clipchamp as a full video editing program you can add other videos other pictures you can add in music and you can do whatever you want here. \n",
      "audio-chunks\\chunk53.wav : Or alternatively you could just take this audiophile on its own and you can bring it into other editing software you can really do whatever you prefer. \n",
      "audio-chunks\\chunk54.wav : In the top right-hand corner at let's click on the button that says export. \n",
      "audio-chunks\\chunk55.wav : Then select 1080p. \n",
      "audio-chunks\\chunk56.wav : And here now it'll render your video as an mp4. \n",
      "audio-chunks\\chunk57.wav : This will include both video and audio. \n",
      "audio-chunks\\chunk58.wav : Once that's all done it'll download the file to your computer. \n",
      "audio-chunks\\chunk59.wav : Is an mp4 the file will contain both video and audio. \n",
      "audio-chunks\\chunk60.wav : But you can also very easily strip out the video. \n",
      "audio-chunks\\chunk61.wav : You can go to a website like cloudconvert. \n",
      "audio-chunks\\chunk62.wav : You'll find a link up above and also down below in the description. \n",
      "audio-chunks\\chunk63.wav : On this website simply drag-and-drop emp4 onto the page. \n",
      "audio-chunks\\chunk64.wav : In this truck down you can then choose what format you want to convert this to. \n",
      "audio-chunks\\chunk65.wav : Here i'll click on audio and then i'll select wave. \n",
      "audio-chunks\\chunk66.wav : Next you can click on convert. \n",
      "audio-chunks\\chunk67.wav : And once you finish those converting you can then click on download. \n",
      "audio-chunks\\chunk68.wav : And now you'll just have the audio output from clipchamp. \n",
      "audio-chunks\\chunk69.wav : Alright well that's how you can make your own text-to-speech video. \n",
      "audio-chunks\\chunk70.wav : Now i know one question that will probably come up a lot is who owns the rights to the outputted text-to-speech and can you use it commercially. \n",
      "audio-chunks\\chunk71.wav : I looked through the terms of service and they don't mention that at all. \n",
      "audio-chunks\\chunk72.wav : Because this is a feature within video editing software and you can use your outputted video for commercial projects. \n",
      "audio-chunks\\chunk73.wav : It seems like it's strongly implied that you have full rights and license. \n",
      "audio-chunks\\chunk74.wav : To use the output a text-to-speech wherever you please. \n",
      "audio-chunks\\chunk75.wav : To watch more videos like this one please consider subscribing and as always i'll see you in the next video. \n"
     ]
    }
   ],
   "source": [
    "text = get_large_audio_transcription(\"C:/videoplayback.wav\")"
   ]
  },
  {
   "cell_type": "code",
   "execution_count": 14,
   "id": "96e780d3",
   "metadata": {},
   "outputs": [
    {
     "name": "stdout",
     "output_type": "stream",
     "text": [
      "Requirement already satisfied: spacy in c:\\users\\aamer\\anaconda3\\lib\\site-packages (3.4.1)\n",
      "Requirement already satisfied: requests<3.0.0,>=2.13.0 in c:\\users\\aamer\\anaconda3\\lib\\site-packages (from spacy) (2.25.1)\n",
      "Requirement already satisfied: jinja2 in c:\\users\\aamer\\anaconda3\\lib\\site-packages (from spacy) (2.11.3)\n",
      "Requirement already satisfied: spacy-loggers<2.0.0,>=1.0.0 in c:\\users\\aamer\\anaconda3\\lib\\site-packages (from spacy) (1.0.3)\n",
      "Requirement already satisfied: setuptools in c:\\users\\aamer\\anaconda3\\lib\\site-packages (from spacy) (52.0.0.post20210125)\n",
      "Requirement already satisfied: murmurhash<1.1.0,>=0.28.0 in c:\\users\\aamer\\anaconda3\\lib\\site-packages (from spacy) (1.0.8)\n",
      "Requirement already satisfied: wasabi<1.1.0,>=0.9.1 in c:\\users\\aamer\\anaconda3\\lib\\site-packages (from spacy) (0.10.1)\n",
      "Requirement already satisfied: tqdm<5.0.0,>=4.38.0 in c:\\users\\aamer\\anaconda3\\lib\\site-packages (from spacy) (4.59.0)\n",
      "Requirement already satisfied: langcodes<4.0.0,>=3.2.0 in c:\\users\\aamer\\anaconda3\\lib\\site-packages (from spacy) (3.3.0)\n",
      "Requirement already satisfied: thinc<8.2.0,>=8.1.0 in c:\\users\\aamer\\anaconda3\\lib\\site-packages (from spacy) (8.1.0)\n",
      "Requirement already satisfied: numpy>=1.15.0 in c:\\users\\aamer\\anaconda3\\lib\\site-packages (from spacy) (1.20.1)\n",
      "Requirement already satisfied: spacy-legacy<3.1.0,>=3.0.9 in c:\\users\\aamer\\anaconda3\\lib\\site-packages (from spacy) (3.0.10)\n",
      "Requirement already satisfied: preshed<3.1.0,>=3.0.2 in c:\\users\\aamer\\anaconda3\\lib\\site-packages (from spacy) (3.0.7)\n",
      "Requirement already satisfied: typer<0.5.0,>=0.3.0 in c:\\users\\aamer\\anaconda3\\lib\\site-packages (from spacy) (0.4.2)\n",
      "Requirement already satisfied: pydantic!=1.8,!=1.8.1,<1.10.0,>=1.7.4 in c:\\users\\aamer\\anaconda3\\lib\\site-packages (from spacy) (1.9.2)\n",
      "Requirement already satisfied: packaging>=20.0 in c:\\users\\aamer\\anaconda3\\lib\\site-packages (from spacy) (20.9)\n",
      "Requirement already satisfied: pathy>=0.3.5 in c:\\users\\aamer\\anaconda3\\lib\\site-packages (from spacy) (0.6.2)\n",
      "Requirement already satisfied: cymem<2.1.0,>=2.0.2 in c:\\users\\aamer\\anaconda3\\lib\\site-packages (from spacy) (2.0.6)\n",
      "Requirement already satisfied: srsly<3.0.0,>=2.4.3 in c:\\users\\aamer\\anaconda3\\lib\\site-packages (from spacy) (2.4.4)\n",
      "Requirement already satisfied: catalogue<2.1.0,>=2.0.6 in c:\\users\\aamer\\anaconda3\\lib\\site-packages (from spacy) (2.0.8)\n",
      "Requirement already satisfied: pyparsing>=2.0.2 in c:\\users\\aamer\\anaconda3\\lib\\site-packages (from packaging>=20.0->spacy) (2.4.7)\n",
      "Requirement already satisfied: smart-open<6.0.0,>=5.2.1 in c:\\users\\aamer\\anaconda3\\lib\\site-packages (from pathy>=0.3.5->spacy) (5.2.1)\n",
      "Requirement already satisfied: typing-extensions>=3.7.4.3 in c:\\users\\aamer\\anaconda3\\lib\\site-packages (from pydantic!=1.8,!=1.8.1,<1.10.0,>=1.7.4->spacy) (3.7.4.3)\n",
      "Requirement already satisfied: certifi>=2017.4.17 in c:\\users\\aamer\\anaconda3\\lib\\site-packages (from requests<3.0.0,>=2.13.0->spacy) (2020.12.5)\n",
      "Requirement already satisfied: idna<3,>=2.5 in c:\\users\\aamer\\anaconda3\\lib\\site-packages (from requests<3.0.0,>=2.13.0->spacy) (2.10)\n",
      "Requirement already satisfied: chardet<5,>=3.0.2 in c:\\users\\aamer\\anaconda3\\lib\\site-packages (from requests<3.0.0,>=2.13.0->spacy) (4.0.0)\n",
      "Requirement already satisfied: urllib3<1.27,>=1.21.1 in c:\\users\\aamer\\anaconda3\\lib\\site-packages (from requests<3.0.0,>=2.13.0->spacy) (1.26.4)\n",
      "Requirement already satisfied: blis<0.8.0,>=0.7.8 in c:\\users\\aamer\\anaconda3\\lib\\site-packages (from thinc<8.2.0,>=8.1.0->spacy) (0.7.8)\n",
      "Requirement already satisfied: click<9.0.0,>=7.1.1 in c:\\users\\aamer\\anaconda3\\lib\\site-packages (from typer<0.5.0,>=0.3.0->spacy) (7.1.2)\n",
      "Requirement already satisfied: MarkupSafe>=0.23 in c:\\users\\aamer\\anaconda3\\lib\\site-packages (from jinja2->spacy) (1.1.1)\n"
     ]
    }
   ],
   "source": [
    "!pip install spacy\n",
    "import spacy\n",
    "from spacy.lang.en.stop_words import STOP_WORDS\n",
    "from string import punctuation\n",
    "#from spacy.en import English\n",
    "from spacy.lang.en import English"
   ]
  },
  {
   "cell_type": "code",
   "execution_count": 12,
   "id": "1cefcebe",
   "metadata": {},
   "outputs": [
    {
     "ename": "OSError",
     "evalue": "[E050] Can't find model 'en_core_web_sm'. It doesn't seem to be a Python package or a valid path to a data directory.",
     "output_type": "error",
     "traceback": [
      "\u001b[1;31m---------------------------------------------------------------------------\u001b[0m",
      "\u001b[1;31mOSError\u001b[0m                                   Traceback (most recent call last)",
      "\u001b[1;32m<ipython-input-12-9a7fc4aa00e2>\u001b[0m in \u001b[0;36m<module>\u001b[1;34m\u001b[0m\n\u001b[0;32m      1\u001b[0m \u001b[0mextra_words\u001b[0m\u001b[1;33m=\u001b[0m\u001b[0mlist\u001b[0m\u001b[1;33m(\u001b[0m\u001b[0mSTOP_WORDS\u001b[0m\u001b[1;33m)\u001b[0m\u001b[1;33m+\u001b[0m\u001b[0mlist\u001b[0m\u001b[1;33m(\u001b[0m\u001b[0mpunctuation\u001b[0m\u001b[1;33m)\u001b[0m\u001b[1;33m+\u001b[0m\u001b[1;33m[\u001b[0m\u001b[1;34m'\\n'\u001b[0m\u001b[1;33m]\u001b[0m\u001b[1;33m\u001b[0m\u001b[1;33m\u001b[0m\u001b[0m\n\u001b[1;32m----> 2\u001b[1;33m \u001b[0mnlp\u001b[0m\u001b[1;33m=\u001b[0m\u001b[0mspacy\u001b[0m\u001b[1;33m.\u001b[0m\u001b[0mload\u001b[0m\u001b[1;33m(\u001b[0m\u001b[1;34m'en_core_web_sm'\u001b[0m\u001b[1;33m)\u001b[0m\u001b[1;33m\u001b[0m\u001b[1;33m\u001b[0m\u001b[0m\n\u001b[0m\u001b[0;32m      3\u001b[0m \u001b[0mdocx\u001b[0m \u001b[1;33m=\u001b[0m \u001b[0mnlp\u001b[0m\u001b[1;33m(\u001b[0m\u001b[0mtext\u001b[0m\u001b[1;33m)\u001b[0m\u001b[1;33m\u001b[0m\u001b[1;33m\u001b[0m\u001b[0m\n",
      "\u001b[1;32m~\\anaconda3\\lib\\site-packages\\spacy\\__init__.py\u001b[0m in \u001b[0;36mload\u001b[1;34m(name, vocab, disable, enable, exclude, config)\u001b[0m\n\u001b[0;32m     52\u001b[0m     \u001b[0mRETURNS\u001b[0m \u001b[1;33m(\u001b[0m\u001b[0mLanguage\u001b[0m\u001b[1;33m)\u001b[0m\u001b[1;33m:\u001b[0m \u001b[0mThe\u001b[0m \u001b[0mloaded\u001b[0m \u001b[0mnlp\u001b[0m \u001b[0mobject\u001b[0m\u001b[1;33m.\u001b[0m\u001b[1;33m\u001b[0m\u001b[1;33m\u001b[0m\u001b[0m\n\u001b[0;32m     53\u001b[0m     \"\"\"\n\u001b[1;32m---> 54\u001b[1;33m     return util.load_model(\n\u001b[0m\u001b[0;32m     55\u001b[0m         \u001b[0mname\u001b[0m\u001b[1;33m,\u001b[0m\u001b[1;33m\u001b[0m\u001b[1;33m\u001b[0m\u001b[0m\n\u001b[0;32m     56\u001b[0m         \u001b[0mvocab\u001b[0m\u001b[1;33m=\u001b[0m\u001b[0mvocab\u001b[0m\u001b[1;33m,\u001b[0m\u001b[1;33m\u001b[0m\u001b[1;33m\u001b[0m\u001b[0m\n",
      "\u001b[1;32m~\\anaconda3\\lib\\site-packages\\spacy\\util.py\u001b[0m in \u001b[0;36mload_model\u001b[1;34m(name, vocab, disable, enable, exclude, config)\u001b[0m\n\u001b[0;32m    434\u001b[0m     \u001b[1;32mif\u001b[0m \u001b[0mname\u001b[0m \u001b[1;32min\u001b[0m \u001b[0mOLD_MODEL_SHORTCUTS\u001b[0m\u001b[1;33m:\u001b[0m\u001b[1;33m\u001b[0m\u001b[1;33m\u001b[0m\u001b[0m\n\u001b[0;32m    435\u001b[0m         \u001b[1;32mraise\u001b[0m \u001b[0mIOError\u001b[0m\u001b[1;33m(\u001b[0m\u001b[0mErrors\u001b[0m\u001b[1;33m.\u001b[0m\u001b[0mE941\u001b[0m\u001b[1;33m.\u001b[0m\u001b[0mformat\u001b[0m\u001b[1;33m(\u001b[0m\u001b[0mname\u001b[0m\u001b[1;33m=\u001b[0m\u001b[0mname\u001b[0m\u001b[1;33m,\u001b[0m \u001b[0mfull\u001b[0m\u001b[1;33m=\u001b[0m\u001b[0mOLD_MODEL_SHORTCUTS\u001b[0m\u001b[1;33m[\u001b[0m\u001b[0mname\u001b[0m\u001b[1;33m]\u001b[0m\u001b[1;33m)\u001b[0m\u001b[1;33m)\u001b[0m  \u001b[1;31m# type: ignore[index]\u001b[0m\u001b[1;33m\u001b[0m\u001b[1;33m\u001b[0m\u001b[0m\n\u001b[1;32m--> 436\u001b[1;33m     \u001b[1;32mraise\u001b[0m \u001b[0mIOError\u001b[0m\u001b[1;33m(\u001b[0m\u001b[0mErrors\u001b[0m\u001b[1;33m.\u001b[0m\u001b[0mE050\u001b[0m\u001b[1;33m.\u001b[0m\u001b[0mformat\u001b[0m\u001b[1;33m(\u001b[0m\u001b[0mname\u001b[0m\u001b[1;33m=\u001b[0m\u001b[0mname\u001b[0m\u001b[1;33m)\u001b[0m\u001b[1;33m)\u001b[0m\u001b[1;33m\u001b[0m\u001b[1;33m\u001b[0m\u001b[0m\n\u001b[0m\u001b[0;32m    437\u001b[0m \u001b[1;33m\u001b[0m\u001b[0m\n\u001b[0;32m    438\u001b[0m \u001b[1;33m\u001b[0m\u001b[0m\n",
      "\u001b[1;31mOSError\u001b[0m: [E050] Can't find model 'en_core_web_sm'. It doesn't seem to be a Python package or a valid path to a data directory."
     ]
    }
   ],
   "source": [
    "extra_words=list(STOP_WORDS)+list(punctuation)+['\\n']\n",
    "nlp=spacy.load('en_core_web_sm')\n",
    "docx = nlp(text)"
   ]
  },
  {
   "cell_type": "code",
   "execution_count": null,
   "id": "cea9dbf9",
   "metadata": {},
   "outputs": [],
   "source": []
  }
 ],
 "metadata": {
  "kernelspec": {
   "display_name": "Python 3",
   "language": "python",
   "name": "python3"
  },
  "language_info": {
   "codemirror_mode": {
    "name": "ipython",
    "version": 3
   },
   "file_extension": ".py",
   "mimetype": "text/x-python",
   "name": "python",
   "nbconvert_exporter": "python",
   "pygments_lexer": "ipython3",
   "version": "3.8.8"
  }
 },
 "nbformat": 4,
 "nbformat_minor": 5
}
