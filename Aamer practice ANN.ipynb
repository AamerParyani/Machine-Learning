{
 "cells": [
  {
   "cell_type": "code",
   "execution_count": 1,
   "id": "7ebb3ec5",
   "metadata": {},
   "outputs": [],
   "source": [
    "import keras\n",
    "import tensorflow\n",
    "from keras import models\n",
    "from keras import layers\n",
    "from keras.datasets import mnist\n",
    "from keras.utils import np_utils\n",
    "import matplotlib.pyplot as plt\n",
    "import numpy as np\n",
    "\n",
    "#supress warning/error messqges terminal\n",
    "import os\n",
    "os.environ['TF_CPP_MIN_LOG_LEVEL'] = '3'\n",
    "\n",
    "#load in data from mnist dataset(60ktraining,10k test)\n",
    "(x_train, y_train), (x_test, y_test) = mnist.load_data()"
   ]
  },
  {
   "cell_type": "code",
   "execution_count": 2,
   "id": "7c5dd5bb",
   "metadata": {},
   "outputs": [],
   "source": [
    "#reshape and convert to one-hot encoder\n",
    "x_train = x_train.reshape(x_train.shape[0], 784)\n",
    "x_test = x_test.reshape(x_test.shape[0], 784)\n",
    "y_train = np_utils.to_categorical(y_train, 10)\n",
    "y_test = np_utils.to_categorical(y_test, 10)"
   ]
  },
  {
   "cell_type": "code",
   "execution_count": 3,
   "id": "d8d54607",
   "metadata": {},
   "outputs": [],
   "source": [
    "#split main training set into train/validation sets(6k out of 60k data points reserved for validation)\n",
    "x_validate = x_train[:6000, :]\n",
    "y_validate = y_train[:6000, :]\n",
    "x_train = x_train[6000:, :]\n",
    "y_train = y_train[6000:, :]"
   ]
  },
  {
   "cell_type": "code",
   "execution_count": 6,
   "id": "224333ce",
   "metadata": {},
   "outputs": [],
   "source": [
    "model = models.Sequential()\n",
    "model.add(layers.Dense(56, activation='relu', input_shape=(784,)))\n",
    "model.add(layers.Dense(96, activation='relu'))\n",
    "model.add(layers.Dense(96, activation='relu'))\n",
    "model.add(layers.Dense(56, activation='relu'))\n",
    "model.add(layers.Dense(10, activation='softmax'))\n",
    "\n",
    "model.compile(loss='categorical_crossentropy',\n",
    "                          optimizer='adam',\n",
    "                          metrics=['accuracy'])\n"
   ]
  },
  {
   "cell_type": "code",
   "execution_count": 9,
   "id": "6a8ad503",
   "metadata": {},
   "outputs": [
    {
     "name": "stdout",
     "output_type": "stream",
     "text": [
      "Epoch 1/5\n",
      "106/106 - 1s - loss: 0.1901 - accuracy: 0.9440 - val_loss: 0.2279 - val_accuracy: 0.9353 - 614ms/epoch - 6ms/step\n",
      "Epoch 2/5\n",
      "106/106 - 1s - loss: 0.1631 - accuracy: 0.9511 - val_loss: 0.2308 - val_accuracy: 0.9372 - 641ms/epoch - 6ms/step\n",
      "Epoch 3/5\n",
      "106/106 - 1s - loss: 0.1435 - accuracy: 0.9570 - val_loss: 0.2075 - val_accuracy: 0.9450 - 605ms/epoch - 6ms/step\n",
      "Epoch 4/5\n",
      "106/106 - 1s - loss: 0.1255 - accuracy: 0.9623 - val_loss: 0.2104 - val_accuracy: 0.9405 - 601ms/epoch - 6ms/step\n",
      "Epoch 5/5\n",
      "106/106 - 1s - loss: 0.1110 - accuracy: 0.9664 - val_loss: 0.2012 - val_accuracy: 0.9450 - 600ms/epoch - 6ms/step\n",
      "Finished fitting.\n",
      "Checking accuracy on test set...\n",
      "20/20 [==============================] - 0s 4ms/step - loss: 0.2208 - accuracy: 0.9420\n",
      "\n",
      "Accuracy on test set: 0.9419999718666077\n"
     ]
    },
    {
     "data": {
      "image/png": "[encoded data removed]",
      "text/plain": [
       "<Figure size 432x288 with 1 Axes>"
      ]
     },
     "metadata": {
      "needs_background": "light"
     },
     "output_type": "display_data"
    }
   ],
   "source": [
    "#training the NN\n",
    "\n",
    "epochs=5\n",
    "history = model.fit(x_train,y_train,epochs=epochs,batch_size=512,verbose=2,validation_data=(x_validate,y_validate))\n",
    "print(\"Finished fitting.\")\n",
    "\n",
    "\n",
    "#plotting learning curves during training(on both training and validation data)\n",
    "epoch_labels=range(1,epochs+1)\n",
    "hist_dict=history.history\n",
    "plt.title=(\"Accuracy vs Epochs\")\n",
    "plt.plot(epoch_labels,hist_dict[\"accuracy\"],'bo', label=\"Training\")\n",
    "plt.plot(epoch_labels,hist_dict[\"val_accuracy\"],'go',label=\"Validation\")\n",
    "plt.legend(loc=\"best\")\n",
    "plt.xlabel(\"Epcohs\")\n",
    "plt.ylabel(\"Accuracy\")\n",
    "\n",
    "#evaluating final peformance using test data\n",
    "print(\"Checking accuracy on test set...\")\n",
    "acc = model.evaluate(x_test, y_test,batch_size=512)\n",
    "print(\"\\nAccuracy on test set: \" + str(acc[1]))\n",
    "plt.show()"
   ]
  },
  {
   "cell_type": "code",
   "execution_count": null,
   "id": "cce1ee49",
   "metadata": {},
   "outputs": [],
   "source": []
  }
 ],
 "metadata": {
  "kernelspec": {
   "display_name": "Python 3",
   "language": "python",
   "name": "python3"
  },
  "language_info": {
   "codemirror_mode": {
    "name": "ipython",
    "version": 3
   },
   "file_extension": ".py",
   "mimetype": "text/x-python",
   "name": "python",
   "nbconvert_exporter": "python",
   "pygments_lexer": "ipython3",
   "version": "3.8.8"
  }
 },
 "nbformat": 4,
 "nbformat_minor": 5
}
